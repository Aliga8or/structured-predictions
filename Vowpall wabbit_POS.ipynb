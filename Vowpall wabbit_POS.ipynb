{
 "cells": [
  {
   "cell_type": "code",
   "execution_count": 1,
   "metadata": {
    "collapsed": true
   },
   "outputs": [],
   "source": [
    "from __future__ import print_function\n",
    "from vowpalwabbit import pyvw"
   ]
  },
  {
   "cell_type": "code",
   "execution_count": 2,
   "metadata": {
    "collapsed": true
   },
   "outputs": [],
   "source": [
    "tag = {}\n",
    "tag['CC'] = 1\n",
    "tag['CD'] = 6\n",
    "tag['DT'] = 7\n",
    "tag['EX'] = 8\n",
    "tag['FW'] = 9\n",
    "tag['IN'] = 10\n",
    "tag['JJ'] = 2\n",
    "tag['JJR'] = 2\n",
    "tag['JJS'] = 2\n",
    "tag['MD'] = 11\n",
    "tag['NN'] = 3\n",
    "tag['NNP'] = 3\n",
    "tag['NNPS'] = 3\n",
    "tag['NNS'] = 3\n",
    "tag['PDT'] = 12\n",
    "tag['POS'] = 13\n",
    "tag['PRP'] = 3\n",
    "tag['PRP$'] = 3\n",
    "tag['RB'] = 4\n",
    "tag['RBR'] = 4\n",
    "tag['RBS'] = 4\n",
    "tag['RP'] = 14\n",
    "tag['SYM'] = 15\n",
    "tag['TO'] = 16\n",
    "tag['UH'] = 17\n",
    "tag['VB'] = 5\n",
    "tag['VBD'] = 5\n",
    "tag['VBG'] = 5\n",
    "tag['VBN'] = 5\n",
    "tag['VBP'] = 5\n",
    "tag['VBZ'] = 5\n",
    "tag['WDT'] = 5\n",
    "tag['WP'] = 18\n",
    "tag['WP$'] = 19\n",
    "tag['WRB'] = 20"
   ]
  },
  {
   "cell_type": "code",
   "execution_count": 3,
   "metadata": {
    "collapsed": true
   },
   "outputs": [],
   "source": [
    "s = ''\n",
    "punc = ['#', '$',\"''\",'(',')',',','.',':',\"``\"]\n",
    "sentence = []\n",
    "sentences = []\n",
    "pos_tags = set([])\n",
    "file = open('train.txt', 'r') \n",
    "for line in file:\n",
    "    if line == '\\n': \n",
    "        sentences.append(sentence)\n",
    "        sentence = []\n",
    "        continue\n",
    "    parts = line.split()\n",
    "    if parts[1] in punc:\n",
    "        continue\n",
    "    pos_tags.add(parts[1])\n",
    "    tup = (tag[parts[1]],parts[0])\n",
    "    sentence.append(tup)"
   ]
  },
  {
   "cell_type": "code",
   "execution_count": 4,
   "metadata": {},
   "outputs": [
    {
     "data": {
      "text/plain": [
       "10"
      ]
     },
     "execution_count": 4,
     "metadata": {},
     "output_type": "execute_result"
    }
   ],
   "source": [
    "sentences[0][1][0]"
   ]
  },
  {
   "cell_type": "code",
   "execution_count": 4,
   "metadata": {
    "collapsed": true
   },
   "outputs": [],
   "source": [
    "class SequenceLabeler(pyvw.SearchTask):\n",
    "    def __init__(self, vw, sch, num_actions):\n",
    "        # you must must must initialize the parent class\n",
    "        # this will automatically store self.sch <- sch, self.vw <- vw\n",
    "        pyvw.SearchTask.__init__(self, vw, sch, num_actions)\n",
    "        \n",
    "        # set whatever options you want\n",
    "        sch.set_options( sch.AUTO_HAMMING_LOSS | sch.AUTO_CONDITION_FEATURES )\n",
    "\n",
    "    def _run(self, sentence):   # it's called _run to remind you that you shouldn't call it directly!\n",
    "        output = []\n",
    "        for n in range(len(sentence)):\n",
    "            pos,word = sentence[n]\n",
    "            # use \"with...as...\" to guarantee that the example is finished properly\n",
    "            with self.vw.example({'w': [word]}) as ex:\n",
    "                pred = self.sch.predict(examples=ex, my_tag=n+1, oracle=pos, condition=[(n,'p'), (n-1, 'q')])\n",
    "                output.append(pred)\n",
    "        return output"
   ]
  },
  {
   "cell_type": "markdown",
   "metadata": {},
   "source": [
    "## Customizing features\n"
   ]
  },
  {
   "cell_type": "code",
   "execution_count": 66,
   "metadata": {
    "collapsed": true
   },
   "outputs": [],
   "source": [
    "class SequenceLabeler2(pyvw.SearchTask):\n",
    "    def __init__(self, vw, sch, num_actions):\n",
    "        pyvw.SearchTask.__init__(self, vw, sch, num_actions)\n",
    "        sch.set_options(sch.AUTO_HAMMING_LOSS)\n",
    "\n",
    "    def _run(self, sentence):\n",
    "        output = []\n",
    "        #loss = 0.\n",
    "        for n in range(len(sentence)):\n",
    "            pos,word = sentence[n]\n",
    "            prevPred = output[n-1] if n > 0 else '<s>'\n",
    "            prev_n_2 = output[n-2] if n > 1 else '<s>'\n",
    "            posnew, prevWord = sentence[n-1] if n> 0 else ('<s>','<s>')\n",
    "            with self.vw.example({'w': [word],'p': [prevPred], 'r': [prev_n_2], 's':[prevWord]}) as ex: \n",
    "                pred = self.sch.predict(examples=ex, my_tag=n+1, oracle=pos, condition=[(n,'p'), (n-1, 'r'), (n,'s')])\n",
    "                output.append(pred)\n",
    "                \n",
    "        return output\n",
    "    \n",
    "#sequenceLabeler2 = vw.init_search_task(SequenceLabeler2)\n",
    "#sequenceLabeler2.learn(my_dataset)\n",
    "#print(sequenceLabeler2.predict( [(0,w) for w in \"the sandwich ate a monster\".split()] ))"
   ]
  },
  {
   "cell_type": "code",
   "execution_count": 67,
   "metadata": {
    "collapsed": true
   },
   "outputs": [],
   "source": [
    "vw = pyvw.vw(\"--search 20 --audit --quiet --search_task hook --ring_size 1024 -f pos_tagger.model\")"
   ]
  },
  {
   "cell_type": "code",
   "execution_count": 68,
   "metadata": {
    "collapsed": true
   },
   "outputs": [],
   "source": [
    "sequenceLabeler2 = vw.init_search_task(SequenceLabeler2)"
   ]
  },
  {
   "cell_type": "code",
   "execution_count": null,
   "metadata": {},
   "outputs": [
    {
     "name": "stdout",
     "output_type": "stream",
     "text": [
      "0\n"
     ]
    }
   ],
   "source": [
    "for i in range(1):\n",
    "    print (i)\n",
    "    sequenceLabeler2.learn(sentences[:1000])"
   ]
  },
  {
   "cell_type": "code",
   "execution_count": 9,
   "metadata": {},
   "outputs": [
    {
     "name": "stdout",
     "output_type": "stream",
     "text": [
      "[(0, 'Confidence'), (0, 'in'), (0, 'the'), (0, 'pound'), (0, 'is'), (0, 'widely'), (0, 'expected'), (0, 'to'), (0, 'take'), (0, 'another'), (0, 'sharp'), (0, 'dive'), (0, 'if'), (0, 'trade'), (0, 'figures'), (0, 'for'), (0, 'September'), (0, 'due'), (0, 'for'), (0, 'release'), (0, 'tomorrow'), (0, 'fail'), (0, 'to'), (0, 'show'), (0, 'a'), (0, 'substantial'), (0, 'improvement'), (0, 'from'), (0, 'July'), (0, 'and'), (0, 'August'), (0, \"'s\"), (0, 'near-record'), (0, 'deficits')]\n"
     ]
    }
   ],
   "source": [
    "temp=[]\n",
    "for w in sentences[0]:\n",
    "    temp.append((0,w[1]))\n",
    "print (temp)"
   ]
  },
  {
   "cell_type": "code",
   "execution_count": 29,
   "metadata": {},
   "outputs": [
    {
     "name": "stdout",
     "output_type": "stream",
     "text": [
      "[10, 3, 10, 10, 3, 3, 5, 5, 7, 2, 3, 7, 10, 3, 13, 2, 5, 5, 2, 2, 3, 16, 3, 3]\n",
      "Predicted value at  0  is  10\n",
      "(3, 'Confidence')\n",
      "Predicted value at  1  is  3\n",
      "(10, 'in')\n",
      "Predicted value at  2  is  10\n",
      "(7, 'the')\n",
      "Predicted value at  3  is  10\n",
      "(3, 'pound')\n",
      "Predicted value at  4  is  3\n",
      "(5, 'is')\n",
      "Predicted value at  5  is  3\n",
      "(4, 'widely')\n",
      "Predicted value at  7  is  5\n",
      "(16, 'to')\n",
      "Predicted value at  8  is  7\n",
      "(5, 'take')\n",
      "Predicted value at  9  is  2\n",
      "(7, 'another')\n",
      "Predicted value at  10  is  3\n",
      "(2, 'sharp')\n",
      "Predicted value at  11  is  7\n",
      "(3, 'dive')\n",
      "Predicted value at  14  is  13\n",
      "(3, 'figures')\n",
      "Predicted value at  15  is  2\n",
      "(10, 'for')\n",
      "Predicted value at  16  is  5\n",
      "(3, 'September')\n",
      "Predicted value at  17  is  5\n",
      "(2, 'due')\n",
      "Predicted value at  18  is  2\n",
      "(10, 'for')\n",
      "Predicted value at  19  is  2\n",
      "(3, 'release')\n",
      "Predicted value at  21  is  16\n",
      "(5, 'fail')\n",
      "Predicted value at  22  is  3\n",
      "(16, 'to')\n",
      "Predicted value at  23  is  3\n",
      "(5, 'show')\n"
     ]
    }
   ],
   "source": [
    "out = sequenceLabeler2.predict(temp)\n",
    "print(out)\n",
    "loss=0\n",
    "c=0\n",
    "for i in out:\n",
    "    if i != sentences[0][c][0]:\n",
    "        loss+=1\n",
    "        print (\"Predicted value at \",c,\" is \",i)\n",
    "        print (sentences[0][c])\n",
    "    c+=1\n",
    "\n"
   ]
  },
  {
   "cell_type": "code",
   "execution_count": 30,
   "metadata": {
    "collapsed": true
   },
   "outputs": [],
   "source": [
    "sentence_test = []\n",
    "sentences_test = []\n",
    "pos_tags_test = set([])\n",
    "file = open('test.txt', 'r') \n",
    "for line in file:\n",
    "    if line == '\\n': \n",
    "        sentences_test.append(sentence_test)\n",
    "        sentence_test = []\n",
    "        continue\n",
    "    parts = line.split()\n",
    "    if parts[1] in punc:\n",
    "        continue\n",
    "    pos_tags_test.add(parts[1])\n",
    "    tup = (tag[parts[1]],parts[0])\n",
    "    sentence_test.append(tup)"
   ]
  },
  {
   "cell_type": "code",
   "execution_count": 31,
   "metadata": {},
   "outputs": [
    {
     "data": {
      "text/plain": [
       "[(3, 'Rockwell'),\n",
       " (3, 'International'),\n",
       " (3, 'Corp.'),\n",
       " (13, \"'s\"),\n",
       " (3, 'Tulsa'),\n",
       " (3, 'unit'),\n",
       " (5, 'said'),\n",
       " (3, 'it'),\n",
       " (5, 'signed'),\n",
       " (7, 'a'),\n",
       " (2, 'tentative'),\n",
       " (3, 'agreement'),\n",
       " (5, 'extending'),\n",
       " (3, 'its'),\n",
       " (3, 'contract'),\n",
       " (10, 'with'),\n",
       " (3, 'Boeing'),\n",
       " (3, 'Co.'),\n",
       " (16, 'to'),\n",
       " (5, 'provide'),\n",
       " (2, 'structural'),\n",
       " (3, 'parts'),\n",
       " (10, 'for'),\n",
       " (3, 'Boeing'),\n",
       " (13, \"'s\"),\n",
       " (6, '747'),\n",
       " (3, 'jetliners')]"
      ]
     },
     "execution_count": 31,
     "metadata": {},
     "output_type": "execute_result"
    }
   ],
   "source": [
    "sentences_test[0]"
   ]
  },
  {
   "cell_type": "code",
   "execution_count": null,
   "metadata": {},
   "outputs": [
    {
     "name": "stdout",
     "output_type": "stream",
     "text": [
      "100\n",
      "200\n",
      "300\n"
     ]
    }
   ],
   "source": [
    "\n",
    "loss_t=[]\n",
    "s=0\n",
    "for sen in sentences_test:\n",
    "    s+=1\n",
    "    if(s%100==0):\n",
    "        print(s)\n",
    "    temp=[]\n",
    "    for w in sen:\n",
    "        temp.append((0,w[1]))\n",
    "    out = sequenceLabeler2.predict(temp)\n",
    "    #print(out)\n",
    "    loss=0\n",
    "    c=0\n",
    "    for i in out:\n",
    "        if i != sen[c][0]:\n",
    "            loss+=1\n",
    "            #print (\"Predicted value at \",c,\" is \",i)\n",
    "            #print (sentences[0][c])\n",
    "        c+=1\n",
    "    loss_t.append(loss/float(c))\n",
    "    \n",
    "\n",
    "print (sum(loss_t) / float(len(loss_t)))"
   ]
  },
  {
   "cell_type": "code",
   "execution_count": null,
   "metadata": {
    "collapsed": true
   },
   "outputs": [],
   "source": []
  }
 ],
 "metadata": {
  "kernelspec": {
   "display_name": "Python 2",
   "language": "python",
   "name": "python2"
  },
  "language_info": {
   "codemirror_mode": {
    "name": "ipython",
    "version": 2
   },
   "file_extension": ".py",
   "mimetype": "text/x-python",
   "name": "python",
   "nbconvert_exporter": "python",
   "pygments_lexer": "ipython2",
   "version": "2.7.12"
  }
 },
 "nbformat": 4,
 "nbformat_minor": 2
}
